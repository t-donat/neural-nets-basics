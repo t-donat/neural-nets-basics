{
 "cells": [
  {
   "cell_type": "code",
   "execution_count": 1,
   "metadata": {},
   "outputs": [],
   "source": [
    "import numpy as np\n",
    "import time\n",
    "\n",
    "from Helper import sigmoid, etl_iris, evaluate_model\n",
    "\n",
    "np.random.seed(42)"
   ]
  },
  {
   "cell_type": "code",
   "execution_count": 2,
   "metadata": {},
   "outputs": [],
   "source": [
    "target = \"setosa\"\n",
    "randomize = True\n",
    "\n",
    "(X, Y), (input_dim, m) = etl_iris(target=target, randomize=randomize)"
   ]
  },
  {
   "cell_type": "code",
   "execution_count": 3,
   "metadata": {},
   "outputs": [],
   "source": [
    "epochs = 100\n",
    "learning_rate = 0.05"
   ]
  },
  {
   "cell_type": "code",
   "execution_count": 4,
   "metadata": {},
   "outputs": [
    {
     "name": "stdout",
     "output_type": "stream",
     "text": [
      "Epoch 0 complete. Loss: 2.995\n",
      "Epoch 10 complete. Loss: 0.922\n",
      "Epoch 20 complete. Loss: 0.562\n",
      "Epoch 30 complete. Loss: 0.415\n",
      "Epoch 40 complete. Loss: 0.321\n",
      "Epoch 50 complete. Loss: 0.259\n",
      "Epoch 60 complete. Loss: 0.216\n",
      "Epoch 70 complete. Loss: 0.185\n",
      "Epoch 80 complete. Loss: 0.161\n",
      "Epoch 90 complete. Loss: 0.143\n",
      "Training completed in 84.27 ms.\n"
     ]
    }
   ],
   "source": [
    "w = np.random.randn(input_dim, 1)\n",
    "b = np.random.randn()\n",
    "\n",
    "start = time.time()\n",
    "\n",
    "for j in range(epochs):\n",
    "    \n",
    "    # forward pass: linear -> sigmoid activation of the entire dataset\n",
    "    z = np.dot(w.T, X) + b\n",
    "    predictions = sigmoid(z)\n",
    "    \n",
    "    # calculate logistic loss (binary)\n",
    "    J = - np.sum(Y * np.log(predictions) + (1-Y) * np.log(1-predictions))/m\n",
    "    \n",
    "    # backward pass: calculate gradients for the weights & bias\n",
    "    dz =  predictions- Y\n",
    "    dw = np.dot(X, dz.T)/m\n",
    "    db = np.sum(dz)/m\n",
    "    \n",
    "    # update parameters\n",
    "    w -= learning_rate * dw\n",
    "    b -= learning_rate * db\n",
    "    \n",
    "    # print loss in every 10th iteration\n",
    "    if j%10 == 0:\n",
    "        print(f\"Epoch {j} complete. Loss: {round(J, 3)}\")\n",
    "    \n",
    "duration = time.time() - start\n",
    "\n",
    "print(f\"Training completed in {round(duration, 5) * 1000} ms.\")"
   ]
  },
  {
   "cell_type": "code",
   "execution_count": 5,
   "metadata": {},
   "outputs": [
    {
     "name": "stdout",
     "output_type": "stream",
     "text": [
      "Accuracy: 1.0\n",
      "Precision: 1.0\n",
      "Recall: 1.0\n",
      "F1-Score: 1.0\n"
     ]
    }
   ],
   "source": [
    "# evaluate model\n",
    "z = np.dot(w.T, X) + b\n",
    "predictions = sigmoid(z)\n",
    "\n",
    "accuracy, precision, recall, F1 = evaluate_model(Y, predictions)\n",
    "\n",
    "print(f\"Accuracy: {accuracy}\")\n",
    "print(f\"Precision: {precision}\")\n",
    "print(f\"Recall: {recall}\")\n",
    "print(f\"F1-Score: {F1}\")"
   ]
  },
  {
   "cell_type": "code",
   "execution_count": null,
   "metadata": {},
   "outputs": [],
   "source": []
  }
 ],
 "metadata": {
  "kernelspec": {
   "display_name": "Python 3",
   "language": "python",
   "name": "python3"
  },
  "language_info": {
   "codemirror_mode": {
    "name": "ipython",
    "version": 3
   },
   "file_extension": ".py",
   "mimetype": "text/x-python",
   "name": "python",
   "nbconvert_exporter": "python",
   "pygments_lexer": "ipython3",
   "version": "3.8.5"
  }
 },
 "nbformat": 4,
 "nbformat_minor": 4
}
